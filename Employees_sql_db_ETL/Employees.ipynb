{
 "cells": [
  {
   "cell_type": "code",
   "execution_count": 1,
   "metadata": {},
   "outputs": [],
   "source": [
    "import pandas as pd\n",
    "import numpy as np\n",
    "import mysql.connector\n",
    "import matplotlib.pyplot as plt\n",
    "import seaborn as sns"
   ]
  },
  {
   "cell_type": "code",
   "execution_count": 2,
   "metadata": {},
   "outputs": [
    {
     "name": "stdout",
     "output_type": "stream",
     "text": [
      "Conexión exitosa a la base de datos.\n"
     ]
    }
   ],
   "source": [
    "connection = mysql.connector.connect(\n",
    "  host=\"localhost\",      # Nombre o dirección IP del servidor MySQL\n",
    "  user=\"root\",     # Usuario de la base de datos\n",
    "  password=\"Pablo199mx\",  # Contraseña del usuario\n",
    "  database=\"employees\"  # Nombre de la base de datos\n",
    ")\n",
    "if connection.is_connected():\n",
    "    print(\"Conexión exitosa a la base de datos.\")"
   ]
  },
  {
   "cell_type": "code",
   "execution_count": 3,
   "metadata": {},
   "outputs": [],
   "source": [
    "cursor = connection.cursor() #Crear consultas"
   ]
  },
  {
   "cell_type": "code",
   "execution_count": 4,
   "metadata": {},
   "outputs": [
    {
     "name": "stdout",
     "output_type": "stream",
     "text": [
      "current_dept_emp\n",
      "departments\n",
      "dept_emp\n",
      "dept_emp_latest_date\n",
      "dept_manager\n",
      "employees\n",
      "salaries\n",
      "titles\n"
     ]
    }
   ],
   "source": [
    "cursor.execute(\"SHOW TABLES\")\n",
    "tables = cursor.fetchall()\n",
    "\n",
    "for table in tables:\n",
    "    print(table[0])"
   ]
  },
  {
   "cell_type": "code",
   "execution_count": 5,
   "metadata": {},
   "outputs": [],
   "source": [
    "def importar_tablas(nombre_tabla):\n",
    "    consulta= f'SELECT * FROM {nombre_tabla}'\n",
    "    df = pd.read_sql_query(consulta,connection)\n",
    "    globals()[f'df_{nombre_tabla}'] = df\n"
   ]
  },
  {
   "cell_type": "code",
   "execution_count": 6,
   "metadata": {},
   "outputs": [
    {
     "name": "stderr",
     "output_type": "stream",
     "text": [
      "C:\\Users\\Pablo\\AppData\\Local\\Temp\\ipykernel_35920\\1861495577.py:3: UserWarning: pandas only supports SQLAlchemy connectable (engine/connection) or database string URI or sqlite3 DBAPI2 connection. Other DBAPI2 objects are not tested. Please consider using SQLAlchemy.\n",
      "  df = pd.read_sql_query(consulta,connection)\n",
      "C:\\Users\\Pablo\\AppData\\Local\\Temp\\ipykernel_35920\\1861495577.py:3: UserWarning: pandas only supports SQLAlchemy connectable (engine/connection) or database string URI or sqlite3 DBAPI2 connection. Other DBAPI2 objects are not tested. Please consider using SQLAlchemy.\n",
      "  df = pd.read_sql_query(consulta,connection)\n",
      "C:\\Users\\Pablo\\AppData\\Local\\Temp\\ipykernel_35920\\1861495577.py:3: UserWarning: pandas only supports SQLAlchemy connectable (engine/connection) or database string URI or sqlite3 DBAPI2 connection. Other DBAPI2 objects are not tested. Please consider using SQLAlchemy.\n",
      "  df = pd.read_sql_query(consulta,connection)\n",
      "C:\\Users\\Pablo\\AppData\\Local\\Temp\\ipykernel_35920\\1861495577.py:3: UserWarning: pandas only supports SQLAlchemy connectable (engine/connection) or database string URI or sqlite3 DBAPI2 connection. Other DBAPI2 objects are not tested. Please consider using SQLAlchemy.\n",
      "  df = pd.read_sql_query(consulta,connection)\n",
      "C:\\Users\\Pablo\\AppData\\Local\\Temp\\ipykernel_35920\\1861495577.py:3: UserWarning: pandas only supports SQLAlchemy connectable (engine/connection) or database string URI or sqlite3 DBAPI2 connection. Other DBAPI2 objects are not tested. Please consider using SQLAlchemy.\n",
      "  df = pd.read_sql_query(consulta,connection)\n",
      "C:\\Users\\Pablo\\AppData\\Local\\Temp\\ipykernel_35920\\1861495577.py:3: UserWarning: pandas only supports SQLAlchemy connectable (engine/connection) or database string URI or sqlite3 DBAPI2 connection. Other DBAPI2 objects are not tested. Please consider using SQLAlchemy.\n",
      "  df = pd.read_sql_query(consulta,connection)\n",
      "C:\\Users\\Pablo\\AppData\\Local\\Temp\\ipykernel_35920\\1861495577.py:3: UserWarning: pandas only supports SQLAlchemy connectable (engine/connection) or database string URI or sqlite3 DBAPI2 connection. Other DBAPI2 objects are not tested. Please consider using SQLAlchemy.\n",
      "  df = pd.read_sql_query(consulta,connection)\n",
      "C:\\Users\\Pablo\\AppData\\Local\\Temp\\ipykernel_35920\\1861495577.py:3: UserWarning: pandas only supports SQLAlchemy connectable (engine/connection) or database string URI or sqlite3 DBAPI2 connection. Other DBAPI2 objects are not tested. Please consider using SQLAlchemy.\n",
      "  df = pd.read_sql_query(consulta,connection)\n"
     ]
    }
   ],
   "source": [
    "importar_tablas('current_dept_emp')\n",
    "importar_tablas('departments')\n",
    "importar_tablas('dept_emp')\n",
    "importar_tablas('dept_emp_latest_date')\n",
    "importar_tablas('dept_manager')\n",
    "importar_tablas('employees')\n",
    "importar_tablas('salaries')\n",
    "importar_tablas('titles')"
   ]
  },
  {
   "cell_type": "code",
   "execution_count": 7,
   "metadata": {},
   "outputs": [
    {
     "name": "stdout",
     "output_type": "stream",
     "text": [
      "Tabla: current_dept_emp\n",
      "('emp_no', b'int', 'NO', '', None, '')\n",
      "('dept_no', b'char(4)', 'NO', '', None, '')\n",
      "('from_date', b'date', 'YES', '', None, '')\n",
      "('to_date', b'date', 'YES', '', None, '')\n",
      "\n",
      "Tabla: departments\n",
      "('dept_no', b'char(4)', 'NO', 'PRI', None, '')\n",
      "('dept_name', b'varchar(40)', 'NO', 'UNI', None, '')\n",
      "\n",
      "Tabla: dept_emp\n",
      "('emp_no', b'int', 'NO', 'PRI', None, '')\n",
      "('dept_no', b'char(4)', 'NO', 'PRI', None, '')\n",
      "('from_date', b'date', 'NO', '', None, '')\n",
      "('to_date', b'date', 'NO', '', None, '')\n",
      "\n",
      "Tabla: dept_emp_latest_date\n",
      "('emp_no', b'int', 'NO', '', None, '')\n",
      "('from_date', b'date', 'YES', '', None, '')\n",
      "('to_date', b'date', 'YES', '', None, '')\n",
      "\n",
      "Tabla: dept_manager\n",
      "('emp_no', b'int', 'NO', 'PRI', None, '')\n",
      "('dept_no', b'char(4)', 'NO', 'PRI', None, '')\n",
      "('from_date', b'date', 'NO', '', None, '')\n",
      "('to_date', b'date', 'NO', '', None, '')\n",
      "\n",
      "Tabla: employees\n",
      "('emp_no', b'int', 'NO', 'PRI', None, '')\n",
      "('birth_date', b'date', 'NO', '', None, '')\n",
      "('first_name', b'varchar(14)', 'NO', '', None, '')\n",
      "('last_name', b'varchar(16)', 'NO', '', None, '')\n",
      "('gender', b\"enum('M','F')\", 'NO', '', None, '')\n",
      "('hire_date', b'date', 'NO', '', None, '')\n",
      "\n",
      "Tabla: salaries\n",
      "('emp_no', b'int', 'NO', 'PRI', None, '')\n",
      "('salary', b'int', 'NO', '', None, '')\n",
      "('from_date', b'date', 'NO', 'PRI', None, '')\n",
      "('to_date', b'date', 'NO', '', None, '')\n",
      "\n",
      "Tabla: titles\n",
      "('emp_no', b'int', 'NO', 'PRI', None, '')\n",
      "('title', b'varchar(50)', 'NO', 'PRI', None, '')\n",
      "('from_date', b'date', 'NO', 'PRI', None, '')\n",
      "('to_date', b'date', 'YES', '', None, '')\n",
      "\n"
     ]
    }
   ],
   "source": [
    "for table in tables:\n",
    "    table_name = table[0]\n",
    "    cursor.execute(f\"DESCRIBE {table_name}\")\n",
    "    columns = cursor.fetchall()\n",
    "    print(f\"Tabla: {table_name}\")\n",
    "    for column in columns:\n",
    "        print(column)\n",
    "    print()"
   ]
  },
  {
   "cell_type": "code",
   "execution_count": 8,
   "metadata": {},
   "outputs": [
    {
     "name": "stdout",
     "output_type": "stream",
     "text": [
      "Tabla: current_dept_emp\n",
      "CREATE ALGORITHM=UNDEFINED DEFINER=`root`@`localhost` SQL SECURITY DEFINER VIEW `current_dept_emp` AS select `l`.`emp_no` AS `emp_no`,`d`.`dept_no` AS `dept_no`,`l`.`from_date` AS `from_date`,`l`.`to_date` AS `to_date` from (`dept_emp` `d` join `dept_emp_latest_date` `l` on(((`d`.`emp_no` = `l`.`emp_no`) and (`d`.`from_date` = `l`.`from_date`) and (`l`.`to_date` = `d`.`to_date`))))\n",
      "\n",
      "Tabla: departments\n",
      "CREATE TABLE `departments` (\n",
      "  `dept_no` char(4) NOT NULL,\n",
      "  `dept_name` varchar(40) NOT NULL,\n",
      "  PRIMARY KEY (`dept_no`),\n",
      "  UNIQUE KEY `dept_name` (`dept_name`)\n",
      ") ENGINE=InnoDB DEFAULT CHARSET=utf8mb4 COLLATE=utf8mb4_0900_ai_ci\n",
      "\n",
      "Tabla: dept_emp\n",
      "CREATE TABLE `dept_emp` (\n",
      "  `emp_no` int NOT NULL,\n",
      "  `dept_no` char(4) NOT NULL,\n",
      "  `from_date` date NOT NULL,\n",
      "  `to_date` date NOT NULL,\n",
      "  PRIMARY KEY (`emp_no`,`dept_no`),\n",
      "  KEY `dept_no` (`dept_no`),\n",
      "  CONSTRAINT `dept_emp_ibfk_1` FOREIGN KEY (`emp_no`) REFERENCES `employees` (`emp_no`) ON DELETE CASCADE,\n",
      "  CONSTRAINT `dept_emp_ibfk_2` FOREIGN KEY (`dept_no`) REFERENCES `departments` (`dept_no`) ON DELETE CASCADE\n",
      ") ENGINE=InnoDB DEFAULT CHARSET=utf8mb4 COLLATE=utf8mb4_0900_ai_ci\n",
      "\n",
      "Tabla: dept_emp_latest_date\n",
      "CREATE ALGORITHM=UNDEFINED DEFINER=`root`@`localhost` SQL SECURITY DEFINER VIEW `dept_emp_latest_date` AS select `dept_emp`.`emp_no` AS `emp_no`,max(`dept_emp`.`from_date`) AS `from_date`,max(`dept_emp`.`to_date`) AS `to_date` from `dept_emp` group by `dept_emp`.`emp_no`\n",
      "\n",
      "Tabla: dept_manager\n",
      "CREATE TABLE `dept_manager` (\n",
      "  `emp_no` int NOT NULL,\n",
      "  `dept_no` char(4) NOT NULL,\n",
      "  `from_date` date NOT NULL,\n",
      "  `to_date` date NOT NULL,\n",
      "  PRIMARY KEY (`emp_no`,`dept_no`),\n",
      "  KEY `dept_no` (`dept_no`),\n",
      "  CONSTRAINT `dept_manager_ibfk_1` FOREIGN KEY (`emp_no`) REFERENCES `employees` (`emp_no`) ON DELETE CASCADE,\n",
      "  CONSTRAINT `dept_manager_ibfk_2` FOREIGN KEY (`dept_no`) REFERENCES `departments` (`dept_no`) ON DELETE CASCADE\n",
      ") ENGINE=InnoDB DEFAULT CHARSET=utf8mb4 COLLATE=utf8mb4_0900_ai_ci\n",
      "\n",
      "Tabla: employees\n",
      "CREATE TABLE `employees` (\n",
      "  `emp_no` int NOT NULL,\n",
      "  `birth_date` date NOT NULL,\n",
      "  `first_name` varchar(14) NOT NULL,\n",
      "  `last_name` varchar(16) NOT NULL,\n",
      "  `gender` enum('M','F') NOT NULL,\n",
      "  `hire_date` date NOT NULL,\n",
      "  PRIMARY KEY (`emp_no`)\n",
      ") ENGINE=InnoDB DEFAULT CHARSET=utf8mb4 COLLATE=utf8mb4_0900_ai_ci\n",
      "\n",
      "Tabla: salaries\n",
      "CREATE TABLE `salaries` (\n",
      "  `emp_no` int NOT NULL,\n",
      "  `salary` int NOT NULL,\n",
      "  `from_date` date NOT NULL,\n",
      "  `to_date` date NOT NULL,\n",
      "  PRIMARY KEY (`emp_no`,`from_date`),\n",
      "  CONSTRAINT `salaries_ibfk_1` FOREIGN KEY (`emp_no`) REFERENCES `employees` (`emp_no`) ON DELETE CASCADE\n",
      ") ENGINE=InnoDB DEFAULT CHARSET=utf8mb4 COLLATE=utf8mb4_0900_ai_ci\n",
      "\n",
      "Tabla: titles\n",
      "CREATE TABLE `titles` (\n",
      "  `emp_no` int NOT NULL,\n",
      "  `title` varchar(50) NOT NULL,\n",
      "  `from_date` date NOT NULL,\n",
      "  `to_date` date DEFAULT NULL,\n",
      "  PRIMARY KEY (`emp_no`,`title`,`from_date`),\n",
      "  CONSTRAINT `titles_ibfk_1` FOREIGN KEY (`emp_no`) REFERENCES `employees` (`emp_no`) ON DELETE CASCADE\n",
      ") ENGINE=InnoDB DEFAULT CHARSET=utf8mb4 COLLATE=utf8mb4_0900_ai_ci\n",
      "\n"
     ]
    }
   ],
   "source": [
    "for table in tables:\n",
    "    table_name = table[0]\n",
    "    cursor.execute(f\"SHOW CREATE TABLE {table_name}\")\n",
    "    create_table = cursor.fetchone()[1]\n",
    "    print(f\"Tabla: {table_name}\")\n",
    "    print(create_table)\n",
    "    print()"
   ]
  },
  {
   "cell_type": "code",
   "execution_count": 9,
   "metadata": {},
   "outputs": [],
   "source": [
    "pd.set_option('display.float_format', '{:.2f}'.format)  #Eliminar notacion cientifica"
   ]
  },
  {
   "cell_type": "code",
   "execution_count": 10,
   "metadata": {},
   "outputs": [],
   "source": [
    "def valores_nulos(data):\n",
    "    return data.isna().sum()"
   ]
  },
  {
   "cell_type": "code",
   "execution_count": 11,
   "metadata": {},
   "outputs": [
    {
     "data": {
      "text/plain": [
       "emp_no       0\n",
       "title        0\n",
       "from_date    0\n",
       "to_date      0\n",
       "dtype: int64"
      ]
     },
     "execution_count": 11,
     "metadata": {},
     "output_type": "execute_result"
    }
   ],
   "source": [
    "valores_nulos(df_titles)"
   ]
  },
  {
   "cell_type": "code",
   "execution_count": 12,
   "metadata": {},
   "outputs": [
    {
     "data": {
      "text/plain": [
       "count   2844047.00\n",
       "mean      63810.74\n",
       "std       16904.83\n",
       "min       38623.00\n",
       "25%       50507.00\n",
       "50%       61143.00\n",
       "75%       74192.00\n",
       "max      158220.00\n",
       "Name: salary, dtype: float64"
      ]
     },
     "execution_count": 12,
     "metadata": {},
     "output_type": "execute_result"
    }
   ],
   "source": [
    "df_salaries['salary'].describe()"
   ]
  },
  {
   "cell_type": "code",
   "execution_count": 13,
   "metadata": {},
   "outputs": [
    {
     "data": {
      "text/plain": [
       "Engineer              115003\n",
       "Staff                 107391\n",
       "Senior Engineer        97750\n",
       "Senior Staff           92853\n",
       "Technique Leader       15159\n",
       "Assistant Engineer     15128\n",
       "Manager                   24\n",
       "Name: title, dtype: int64"
      ]
     },
     "execution_count": 13,
     "metadata": {},
     "output_type": "execute_result"
    }
   ],
   "source": [
    "df_titles['title'].value_counts()"
   ]
  },
  {
   "cell_type": "code",
   "execution_count": 14,
   "metadata": {},
   "outputs": [
    {
     "data": {
      "text/plain": [
       "M    179973\n",
       "F    120051\n",
       "Name: gender, dtype: int64"
      ]
     },
     "execution_count": 14,
     "metadata": {},
     "output_type": "execute_result"
    }
   ],
   "source": [
    "df_employees['gender'].value_counts()"
   ]
  },
  {
   "cell_type": "code",
   "execution_count": 15,
   "metadata": {},
   "outputs": [
    {
     "data": {
      "text/plain": [
       "<seaborn.axisgrid.FacetGrid at 0x2aeaeb22820>"
      ]
     },
     "execution_count": 15,
     "metadata": {},
     "output_type": "execute_result"
    },
    {
     "data": {
      "image/png": "[encoded data removed]",
      "text/plain": [
       "<Figure size 500x500 with 1 Axes>"
      ]
     },
     "metadata": {},
     "output_type": "display_data"
    }
   ],
   "source": [
    "g=sns.displot(df_titles['title'],color='g',bins=100,alpha=0.4)\n",
    "g.set_xticklabels(rotation=90)"
   ]
  },
  {
   "cell_type": "code",
   "execution_count": 16,
   "metadata": {},
   "outputs": [
    {
     "data": {
      "text/plain": [
       "<seaborn.axisgrid.FacetGrid at 0x2ae9ea4f5e0>"
      ]
     },
     "execution_count": 16,
     "metadata": {},
     "output_type": "execute_result"
    },
    {
     "data": {
      "image/png": "[encoded data removed]",
      "text/plain": [
       "<Figure size 500x500 with 1 Axes>"
      ]
     },
     "metadata": {},
     "output_type": "display_data"
    }
   ],
   "source": [
    "sns.displot(df_employees['gender'],color='purple',bins=100,alpha=0.4)"
   ]
  },
  {
   "cell_type": "code",
   "execution_count": 17,
   "metadata": {},
   "outputs": [
    {
     "data": {
      "text/plain": [
       "<seaborn.axisgrid.FacetGrid at 0x2aeaeb22ee0>"
      ]
     },
     "execution_count": 17,
     "metadata": {},
     "output_type": "execute_result"
    },
    {
     "data": {
      "image/png": "[encoded data removed]",
      "text/plain": [
       "<Figure size 500x500 with 1 Axes>"
      ]
     },
     "metadata": {},
     "output_type": "display_data"
    }
   ],
   "source": [
    "sns.displot(df_salaries['salary'],color='blue',bins=100,alpha=0.5)"
   ]
  },
  {
   "cell_type": "code",
   "execution_count": 18,
   "metadata": {},
   "outputs": [],
   "source": [
    "from datetime import date"
   ]
  },
  {
   "cell_type": "code",
   "execution_count": 19,
   "metadata": {},
   "outputs": [],
   "source": [
    "fecha=date(year=2000,month=4,day=23)\n",
    "df_employees['Edad']=(fecha-df_employees['birth_date']).astype('<m8[Y]')"
   ]
  },
  {
   "cell_type": "code",
   "execution_count": 20,
   "metadata": {},
   "outputs": [
    {
     "data": {
      "text/plain": [
       "count   300024.00\n",
       "mean        41.23\n",
       "std          3.76\n",
       "min         35.00\n",
       "25%         38.00\n",
       "50%         41.00\n",
       "75%         44.00\n",
       "max         48.00\n",
       "Name: Edad, dtype: float64"
      ]
     },
     "execution_count": 20,
     "metadata": {},
     "output_type": "execute_result"
    }
   ],
   "source": [
    "df_employees['Edad'].describe()"
   ]
  },
  {
   "cell_type": "code",
   "execution_count": 21,
   "metadata": {},
   "outputs": [
    {
     "data": {
      "text/plain": [
       "<seaborn.axisgrid.FacetGrid at 0x2aed121bd90>"
      ]
     },
     "execution_count": 21,
     "metadata": {},
     "output_type": "execute_result"
    },
    {
     "data": {
      "image/png": "[encoded data removed]",
      "text/plain": [
       "<Figure size 500x500 with 1 Axes>"
      ]
     },
     "metadata": {},
     "output_type": "display_data"
    }
   ],
   "source": [
    "sns.displot(df_employees['Edad'])"
   ]
  },
  {
   "cell_type": "code",
   "execution_count": 22,
   "metadata": {},
   "outputs": [],
   "source": [
    "df_employees['Antiguedad']=(fecha-df_employees['hire_date']).astype('<m8[Y]')"
   ]
  },
  {
   "cell_type": "code",
   "execution_count": 23,
   "metadata": {},
   "outputs": [
    {
     "data": {
      "text/plain": [
       "count   300024.00\n",
       "mean         9.73\n",
       "std          3.54\n",
       "min          0.00\n",
       "25%          7.00\n",
       "50%         10.00\n",
       "75%         13.00\n",
       "max         15.00\n",
       "Name: Antiguedad, dtype: float64"
      ]
     },
     "execution_count": 23,
     "metadata": {},
     "output_type": "execute_result"
    }
   ],
   "source": [
    "df_employees['Antiguedad'].describe()"
   ]
  },
  {
   "cell_type": "code",
   "execution_count": 24,
   "metadata": {},
   "outputs": [
    {
     "data": {
      "text/plain": [
       "<seaborn.axisgrid.FacetGrid at 0x2aeb635cbe0>"
      ]
     },
     "execution_count": 24,
     "metadata": {},
     "output_type": "execute_result"
    },
    {
     "data": {
      "image/png": "[encoded data removed]",
      "text/plain": [
       "<Figure size 500x500 with 1 Axes>"
      ]
     },
     "metadata": {},
     "output_type": "display_data"
    }
   ],
   "source": [
    "sns.displot(df_employees['Antiguedad'])"
   ]
  },
  {
   "attachments": {},
   "cell_type": "markdown",
   "metadata": {},
   "source": [
    "Segmentaciones"
   ]
  },
  {
   "cell_type": "code",
   "execution_count": 25,
   "metadata": {},
   "outputs": [],
   "source": [
    "df_employees['Edad_Seg']=pd.cut(df_employees['Edad'],bins=[34,39,44,49],labels=['35-39',\n",
    "                                                           '40-44','45-49'])"
   ]
  },
  {
   "cell_type": "code",
   "execution_count": 26,
   "metadata": {},
   "outputs": [
    {
     "data": {
      "text/plain": [
       "<seaborn.axisgrid.FacetGrid at 0x2aecfce70d0>"
      ]
     },
     "execution_count": 26,
     "metadata": {},
     "output_type": "execute_result"
    },
    {
     "data": {
      "image/png": "[encoded data removed]",
      "text/plain": [
       "<Figure size 500x500 with 1 Axes>"
      ]
     },
     "metadata": {},
     "output_type": "display_data"
    }
   ],
   "source": [
    "sns.displot(df_employees['Edad_Seg'])"
   ]
  },
  {
   "cell_type": "code",
   "execution_count": 27,
   "metadata": {},
   "outputs": [],
   "source": [
    "df_employees['Antiguedad_Seg']=pd.cut(df_employees['Antiguedad'],bins=[-1,0,4,8,12,16],\n",
    "                            labels=['<1','1-4','5-9','10-14','>15'])"
   ]
  },
  {
   "cell_type": "code",
   "execution_count": 28,
   "metadata": {},
   "outputs": [
    {
     "data": {
      "text/plain": [
       "<seaborn.axisgrid.FacetGrid at 0x2aea231fc40>"
      ]
     },
     "execution_count": 28,
     "metadata": {},
     "output_type": "execute_result"
    },
    {
     "data": {
      "image/png": "[encoded data removed]",
      "text/plain": [
       "<Figure size 500x500 with 1 Axes>"
      ]
     },
     "metadata": {},
     "output_type": "display_data"
    }
   ],
   "source": [
    "sns.displot(df_employees['Antiguedad_Seg'])"
   ]
  },
  {
   "cell_type": "code",
   "execution_count": 29,
   "metadata": {},
   "outputs": [],
   "source": [
    "df_salaries['Salary_seg'] = pd.cut(df_salaries['salary'],\n",
    "                                   bins=[30000, 40000, 50000, 60000, 70000, 80000, 90000,\n",
    "                                         100000, 110000, 120000, 130000, 140000, 150000, float('inf')],\n",
    "                                   labels=['>30000 <40000', '>40000 <50000', '>50000 <60000',\n",
    "                                           '>60000 <70000', '>70000 <80000', '>80000 <90000',\n",
    "                                           '>90000 <100000', '>100000 <110000', '>110000 <120000',\n",
    "                                           '>120000 <130000', '>130000 <140000', '>140000 <150000',\n",
    "                                           '>150000'])"
   ]
  },
  {
   "cell_type": "code",
   "execution_count": 30,
   "metadata": {},
   "outputs": [
    {
     "data": {
      "text/plain": [
       ">50000 <60000      670517\n",
       ">60000 <70000      588240\n",
       ">40000 <50000      570513\n",
       ">70000 <80000      416227\n",
       ">80000 <90000      257199\n",
       ">90000 <100000     139571\n",
       ">30000 <40000      107084\n",
       ">100000 <110000     62976\n",
       ">110000 <120000     23426\n",
       ">120000 <130000      6572\n",
       ">130000 <140000      1456\n",
       ">140000 <150000       230\n",
       ">150000                36\n",
       "Name: Salary_seg, dtype: int64"
      ]
     },
     "execution_count": 30,
     "metadata": {},
     "output_type": "execute_result"
    }
   ],
   "source": [
    "df_salaries['Salary_seg'].value_counts()"
   ]
  },
  {
   "cell_type": "code",
   "execution_count": 31,
   "metadata": {},
   "outputs": [
    {
     "data": {
      "text/plain": [
       "emp_no        0\n",
       "salary        0\n",
       "from_date     0\n",
       "to_date       0\n",
       "Salary_seg    0\n",
       "dtype: int64"
      ]
     },
     "execution_count": 31,
     "metadata": {},
     "output_type": "execute_result"
    }
   ],
   "source": [
    "df_salaries.isnull().sum()"
   ]
  },
  {
   "cell_type": "code",
   "execution_count": 32,
   "metadata": {},
   "outputs": [
    {
     "data": {
      "text/plain": [
       "<seaborn.axisgrid.FacetGrid at 0x2aecefa4ca0>"
      ]
     },
     "execution_count": 32,
     "metadata": {},
     "output_type": "execute_result"
    },
    {
     "data": {
      "image/png": "[encoded data removed]",
      "text/plain": [
       "<Figure size 500x500 with 1 Axes>"
      ]
     },
     "metadata": {},
     "output_type": "display_data"
    }
   ],
   "source": [
    "g=sns.displot(df_salaries['Salary_seg'])\n",
    "g.set_xticklabels(rotation=90)"
   ]
  },
  {
   "cell_type": "code",
   "execution_count": 33,
   "metadata": {},
   "outputs": [],
   "source": [
    "employees_salary = pd.merge(df_employees, df_salaries, on='emp_no').drop_duplicates('emp_no',keep='last')"
   ]
  },
  {
   "cell_type": "code",
   "execution_count": 34,
   "metadata": {},
   "outputs": [],
   "source": [
    "salario_genero=employees_salary.groupby('Salary_seg').gender.agg({'value_counts'}).reset_index()"
   ]
  },
  {
   "cell_type": "code",
   "execution_count": 35,
   "metadata": {},
   "outputs": [
    {
     "data": {
      "text/plain": [
       "Text(0, 0.5, 'Conteo')"
      ]
     },
     "execution_count": 35,
     "metadata": {},
     "output_type": "execute_result"
    },
    {
     "data": {
      "image/png": "[encoded data removed]",
      "text/plain": [
       "<Figure size 640x480 with 1 Axes>"
      ]
     },
     "metadata": {},
     "output_type": "display_data"
    }
   ],
   "source": [
    "sns.barplot(data=salario_genero, x='Salary_seg', y='value_counts', hue='gender')\n",
    "plt.xticks(rotation=45)  # Adjust\n",
    "\n",
    "plt.xlabel('Segmento de Salario')\n",
    "plt.ylabel('Conteo')"
   ]
  },
  {
   "cell_type": "code",
   "execution_count": 36,
   "metadata": {},
   "outputs": [
    {
     "data": {
      "text/html": [
       "<div>\n",
       "<style scoped>\n",
       "    .dataframe tbody tr th:only-of-type {\n",
       "        vertical-align: middle;\n",
       "    }\n",
       "\n",
       "    .dataframe tbody tr th {\n",
       "        vertical-align: top;\n",
       "    }\n",
       "\n",
       "    .dataframe thead th {\n",
       "        text-align: right;\n",
       "    }\n",
       "</style>\n",
       "<table border=\"1\" class=\"dataframe\">\n",
       "  <thead>\n",
       "    <tr style=\"text-align: right;\">\n",
       "      <th></th>\n",
       "      <th>Salary_seg</th>\n",
       "      <th>gender</th>\n",
       "      <th>value_counts</th>\n",
       "      <th>%</th>\n",
       "    </tr>\n",
       "  </thead>\n",
       "  <tbody>\n",
       "    <tr>\n",
       "      <th>0</th>\n",
       "      <td>&gt;30000 &lt;40000</td>\n",
       "      <td>M</td>\n",
       "      <td>1845</td>\n",
       "      <td>0.61</td>\n",
       "    </tr>\n",
       "    <tr>\n",
       "      <th>1</th>\n",
       "      <td>&gt;30000 &lt;40000</td>\n",
       "      <td>F</td>\n",
       "      <td>1272</td>\n",
       "      <td>0.42</td>\n",
       "    </tr>\n",
       "    <tr>\n",
       "      <th>2</th>\n",
       "      <td>&gt;40000 &lt;50000</td>\n",
       "      <td>M</td>\n",
       "      <td>20967</td>\n",
       "      <td>6.99</td>\n",
       "    </tr>\n",
       "    <tr>\n",
       "      <th>3</th>\n",
       "      <td>&gt;40000 &lt;50000</td>\n",
       "      <td>F</td>\n",
       "      <td>13748</td>\n",
       "      <td>4.58</td>\n",
       "    </tr>\n",
       "    <tr>\n",
       "      <th>4</th>\n",
       "      <td>&gt;50000 &lt;60000</td>\n",
       "      <td>M</td>\n",
       "      <td>35327</td>\n",
       "      <td>11.77</td>\n",
       "    </tr>\n",
       "    <tr>\n",
       "      <th>5</th>\n",
       "      <td>&gt;50000 &lt;60000</td>\n",
       "      <td>F</td>\n",
       "      <td>23562</td>\n",
       "      <td>7.85</td>\n",
       "    </tr>\n",
       "    <tr>\n",
       "      <th>6</th>\n",
       "      <td>&gt;60000 &lt;70000</td>\n",
       "      <td>M</td>\n",
       "      <td>40588</td>\n",
       "      <td>13.53</td>\n",
       "    </tr>\n",
       "    <tr>\n",
       "      <th>7</th>\n",
       "      <td>&gt;60000 &lt;70000</td>\n",
       "      <td>F</td>\n",
       "      <td>27258</td>\n",
       "      <td>9.09</td>\n",
       "    </tr>\n",
       "    <tr>\n",
       "      <th>8</th>\n",
       "      <td>&gt;70000 &lt;80000</td>\n",
       "      <td>M</td>\n",
       "      <td>34027</td>\n",
       "      <td>11.34</td>\n",
       "    </tr>\n",
       "    <tr>\n",
       "      <th>9</th>\n",
       "      <td>&gt;70000 &lt;80000</td>\n",
       "      <td>F</td>\n",
       "      <td>23005</td>\n",
       "      <td>7.67</td>\n",
       "    </tr>\n",
       "    <tr>\n",
       "      <th>10</th>\n",
       "      <td>&gt;80000 &lt;90000</td>\n",
       "      <td>M</td>\n",
       "      <td>22297</td>\n",
       "      <td>7.43</td>\n",
       "    </tr>\n",
       "    <tr>\n",
       "      <th>11</th>\n",
       "      <td>&gt;80000 &lt;90000</td>\n",
       "      <td>F</td>\n",
       "      <td>14833</td>\n",
       "      <td>4.94</td>\n",
       "    </tr>\n",
       "    <tr>\n",
       "      <th>12</th>\n",
       "      <td>&gt;90000 &lt;100000</td>\n",
       "      <td>M</td>\n",
       "      <td>13503</td>\n",
       "      <td>4.50</td>\n",
       "    </tr>\n",
       "    <tr>\n",
       "      <th>13</th>\n",
       "      <td>&gt;90000 &lt;100000</td>\n",
       "      <td>F</td>\n",
       "      <td>8814</td>\n",
       "      <td>2.94</td>\n",
       "    </tr>\n",
       "    <tr>\n",
       "      <th>14</th>\n",
       "      <td>&gt;100000 &lt;110000</td>\n",
       "      <td>M</td>\n",
       "      <td>6958</td>\n",
       "      <td>2.32</td>\n",
       "    </tr>\n",
       "    <tr>\n",
       "      <th>15</th>\n",
       "      <td>&gt;100000 &lt;110000</td>\n",
       "      <td>F</td>\n",
       "      <td>4671</td>\n",
       "      <td>1.56</td>\n",
       "    </tr>\n",
       "    <tr>\n",
       "      <th>16</th>\n",
       "      <td>&gt;110000 &lt;120000</td>\n",
       "      <td>M</td>\n",
       "      <td>3054</td>\n",
       "      <td>1.02</td>\n",
       "    </tr>\n",
       "    <tr>\n",
       "      <th>17</th>\n",
       "      <td>&gt;110000 &lt;120000</td>\n",
       "      <td>F</td>\n",
       "      <td>2012</td>\n",
       "      <td>0.67</td>\n",
       "    </tr>\n",
       "    <tr>\n",
       "      <th>18</th>\n",
       "      <td>&gt;120000 &lt;130000</td>\n",
       "      <td>M</td>\n",
       "      <td>1087</td>\n",
       "      <td>0.36</td>\n",
       "    </tr>\n",
       "    <tr>\n",
       "      <th>19</th>\n",
       "      <td>&gt;120000 &lt;130000</td>\n",
       "      <td>F</td>\n",
       "      <td>659</td>\n",
       "      <td>0.22</td>\n",
       "    </tr>\n",
       "    <tr>\n",
       "      <th>20</th>\n",
       "      <td>&gt;130000 &lt;140000</td>\n",
       "      <td>M</td>\n",
       "      <td>256</td>\n",
       "      <td>0.09</td>\n",
       "    </tr>\n",
       "    <tr>\n",
       "      <th>21</th>\n",
       "      <td>&gt;130000 &lt;140000</td>\n",
       "      <td>F</td>\n",
       "      <td>185</td>\n",
       "      <td>0.06</td>\n",
       "    </tr>\n",
       "    <tr>\n",
       "      <th>22</th>\n",
       "      <td>&gt;140000 &lt;150000</td>\n",
       "      <td>M</td>\n",
       "      <td>51</td>\n",
       "      <td>0.02</td>\n",
       "    </tr>\n",
       "    <tr>\n",
       "      <th>23</th>\n",
       "      <td>&gt;140000 &lt;150000</td>\n",
       "      <td>F</td>\n",
       "      <td>30</td>\n",
       "      <td>0.01</td>\n",
       "    </tr>\n",
       "    <tr>\n",
       "      <th>24</th>\n",
       "      <td>&gt;150000</td>\n",
       "      <td>M</td>\n",
       "      <td>13</td>\n",
       "      <td>0.00</td>\n",
       "    </tr>\n",
       "    <tr>\n",
       "      <th>25</th>\n",
       "      <td>&gt;150000</td>\n",
       "      <td>F</td>\n",
       "      <td>2</td>\n",
       "      <td>0.00</td>\n",
       "    </tr>\n",
       "  </tbody>\n",
       "</table>\n",
       "</div>"
      ],
      "text/plain": [
       "         Salary_seg gender  value_counts     %\n",
       "0     >30000 <40000      M          1845  0.61\n",
       "1     >30000 <40000      F          1272  0.42\n",
       "2     >40000 <50000      M         20967  6.99\n",
       "3     >40000 <50000      F         13748  4.58\n",
       "4     >50000 <60000      M         35327 11.77\n",
       "5     >50000 <60000      F         23562  7.85\n",
       "6     >60000 <70000      M         40588 13.53\n",
       "7     >60000 <70000      F         27258  9.09\n",
       "8     >70000 <80000      M         34027 11.34\n",
       "9     >70000 <80000      F         23005  7.67\n",
       "10    >80000 <90000      M         22297  7.43\n",
       "11    >80000 <90000      F         14833  4.94\n",
       "12   >90000 <100000      M         13503  4.50\n",
       "13   >90000 <100000      F          8814  2.94\n",
       "14  >100000 <110000      M          6958  2.32\n",
       "15  >100000 <110000      F          4671  1.56\n",
       "16  >110000 <120000      M          3054  1.02\n",
       "17  >110000 <120000      F          2012  0.67\n",
       "18  >120000 <130000      M          1087  0.36\n",
       "19  >120000 <130000      F           659  0.22\n",
       "20  >130000 <140000      M           256  0.09\n",
       "21  >130000 <140000      F           185  0.06\n",
       "22  >140000 <150000      M            51  0.02\n",
       "23  >140000 <150000      F            30  0.01\n",
       "24          >150000      M            13  0.00\n",
       "25          >150000      F             2  0.00"
      ]
     },
     "execution_count": 36,
     "metadata": {},
     "output_type": "execute_result"
    }
   ],
   "source": [
    "salario_genero['%']=(salario_genero['value_counts']/salario_genero['value_counts'].sum()).round(4)*100\n",
    "salario_genero"
   ]
  },
  {
   "cell_type": "code",
   "execution_count": 37,
   "metadata": {},
   "outputs": [],
   "source": [
    "employees_salary_titles=pd.merge(employees_salary,df_titles,on='emp_no').drop_duplicates('emp_no',keep='last')"
   ]
  },
  {
   "cell_type": "code",
   "execution_count": 38,
   "metadata": {},
   "outputs": [],
   "source": [
    "employees_salary_titles.rename(columns={'from_date_x':'Fecha Nuevo Salario',\n",
    "                                        'from_date_y':'Fecha Nuevo Puesto'},inplace=True)"
   ]
  },
  {
   "cell_type": "code",
   "execution_count": 39,
   "metadata": {},
   "outputs": [],
   "source": [
    "departments=pd.merge(df_departments,df_dept_emp,on='dept_no').drop_duplicates('emp_no',keep='last')"
   ]
  },
  {
   "cell_type": "code",
   "execution_count": 40,
   "metadata": {},
   "outputs": [],
   "source": [
    "total=pd.merge(employees_salary_titles,departments,on='emp_no')"
   ]
  },
  {
   "cell_type": "code",
   "execution_count": 41,
   "metadata": {},
   "outputs": [
    {
     "data": {
      "text/html": [
       "<div>\n",
       "<style scoped>\n",
       "    .dataframe tbody tr th:only-of-type {\n",
       "        vertical-align: middle;\n",
       "    }\n",
       "\n",
       "    .dataframe tbody tr th {\n",
       "        vertical-align: top;\n",
       "    }\n",
       "\n",
       "    .dataframe thead th {\n",
       "        text-align: right;\n",
       "    }\n",
       "</style>\n",
       "<table border=\"1\" class=\"dataframe\">\n",
       "  <thead>\n",
       "    <tr style=\"text-align: right;\">\n",
       "      <th></th>\n",
       "      <th>emp_no</th>\n",
       "      <th>birth_date</th>\n",
       "      <th>first_name</th>\n",
       "      <th>last_name</th>\n",
       "      <th>gender</th>\n",
       "      <th>hire_date</th>\n",
       "      <th>Edad</th>\n",
       "      <th>Antiguedad</th>\n",
       "      <th>Edad_Seg</th>\n",
       "      <th>Antiguedad_Seg</th>\n",
       "      <th>...</th>\n",
       "      <th>Fecha Nuevo Salario</th>\n",
       "      <th>to_date_x</th>\n",
       "      <th>Salary_seg</th>\n",
       "      <th>title</th>\n",
       "      <th>Fecha Nuevo Puesto</th>\n",
       "      <th>to_date_y</th>\n",
       "      <th>dept_no</th>\n",
       "      <th>dept_name</th>\n",
       "      <th>from_date</th>\n",
       "      <th>to_date</th>\n",
       "    </tr>\n",
       "  </thead>\n",
       "  <tbody>\n",
       "    <tr>\n",
       "      <th>0</th>\n",
       "      <td>10001</td>\n",
       "      <td>1953-09-02</td>\n",
       "      <td>Georgi</td>\n",
       "      <td>Facello</td>\n",
       "      <td>M</td>\n",
       "      <td>1986-06-26</td>\n",
       "      <td>46.00</td>\n",
       "      <td>13.00</td>\n",
       "      <td>45-49</td>\n",
       "      <td>&gt;15</td>\n",
       "      <td>...</td>\n",
       "      <td>2002-06-22</td>\n",
       "      <td>9999-01-01</td>\n",
       "      <td>&gt;80000 &lt;90000</td>\n",
       "      <td>Senior Engineer</td>\n",
       "      <td>1986-06-26</td>\n",
       "      <td>9999-01-01</td>\n",
       "      <td>d005</td>\n",
       "      <td>Development</td>\n",
       "      <td>1986-06-26</td>\n",
       "      <td>9999-01-01</td>\n",
       "    </tr>\n",
       "    <tr>\n",
       "      <th>1</th>\n",
       "      <td>10002</td>\n",
       "      <td>1964-06-02</td>\n",
       "      <td>Bezalel</td>\n",
       "      <td>Simmel</td>\n",
       "      <td>F</td>\n",
       "      <td>1985-11-21</td>\n",
       "      <td>35.00</td>\n",
       "      <td>14.00</td>\n",
       "      <td>35-39</td>\n",
       "      <td>&gt;15</td>\n",
       "      <td>...</td>\n",
       "      <td>2001-08-02</td>\n",
       "      <td>9999-01-01</td>\n",
       "      <td>&gt;70000 &lt;80000</td>\n",
       "      <td>Staff</td>\n",
       "      <td>1996-08-03</td>\n",
       "      <td>9999-01-01</td>\n",
       "      <td>d007</td>\n",
       "      <td>Sales</td>\n",
       "      <td>1996-08-03</td>\n",
       "      <td>9999-01-01</td>\n",
       "    </tr>\n",
       "    <tr>\n",
       "      <th>2</th>\n",
       "      <td>10003</td>\n",
       "      <td>1959-12-03</td>\n",
       "      <td>Parto</td>\n",
       "      <td>Bamford</td>\n",
       "      <td>M</td>\n",
       "      <td>1986-08-28</td>\n",
       "      <td>40.00</td>\n",
       "      <td>13.00</td>\n",
       "      <td>40-44</td>\n",
       "      <td>&gt;15</td>\n",
       "      <td>...</td>\n",
       "      <td>2001-12-01</td>\n",
       "      <td>9999-01-01</td>\n",
       "      <td>&gt;40000 &lt;50000</td>\n",
       "      <td>Senior Engineer</td>\n",
       "      <td>1995-12-03</td>\n",
       "      <td>9999-01-01</td>\n",
       "      <td>d004</td>\n",
       "      <td>Production</td>\n",
       "      <td>1995-12-03</td>\n",
       "      <td>9999-01-01</td>\n",
       "    </tr>\n",
       "    <tr>\n",
       "      <th>3</th>\n",
       "      <td>10004</td>\n",
       "      <td>1954-05-01</td>\n",
       "      <td>Chirstian</td>\n",
       "      <td>Koblick</td>\n",
       "      <td>M</td>\n",
       "      <td>1986-12-01</td>\n",
       "      <td>45.00</td>\n",
       "      <td>13.00</td>\n",
       "      <td>45-49</td>\n",
       "      <td>&gt;15</td>\n",
       "      <td>...</td>\n",
       "      <td>2001-11-27</td>\n",
       "      <td>9999-01-01</td>\n",
       "      <td>&gt;70000 &lt;80000</td>\n",
       "      <td>Senior Engineer</td>\n",
       "      <td>1995-12-01</td>\n",
       "      <td>9999-01-01</td>\n",
       "      <td>d004</td>\n",
       "      <td>Production</td>\n",
       "      <td>1986-12-01</td>\n",
       "      <td>9999-01-01</td>\n",
       "    </tr>\n",
       "    <tr>\n",
       "      <th>4</th>\n",
       "      <td>10005</td>\n",
       "      <td>1955-01-21</td>\n",
       "      <td>Kyoichi</td>\n",
       "      <td>Maliniak</td>\n",
       "      <td>M</td>\n",
       "      <td>1989-09-12</td>\n",
       "      <td>45.00</td>\n",
       "      <td>10.00</td>\n",
       "      <td>45-49</td>\n",
       "      <td>10-14</td>\n",
       "      <td>...</td>\n",
       "      <td>2001-09-09</td>\n",
       "      <td>9999-01-01</td>\n",
       "      <td>&gt;90000 &lt;100000</td>\n",
       "      <td>Staff</td>\n",
       "      <td>1989-09-12</td>\n",
       "      <td>1996-09-12</td>\n",
       "      <td>d003</td>\n",
       "      <td>Human Resources</td>\n",
       "      <td>1989-09-12</td>\n",
       "      <td>9999-01-01</td>\n",
       "    </tr>\n",
       "  </tbody>\n",
       "</table>\n",
       "<p>5 rows × 21 columns</p>\n",
       "</div>"
      ],
      "text/plain": [
       "   emp_no  birth_date first_name last_name gender   hire_date  Edad  \\\n",
       "0   10001  1953-09-02     Georgi   Facello      M  1986-06-26 46.00   \n",
       "1   10002  1964-06-02    Bezalel    Simmel      F  1985-11-21 35.00   \n",
       "2   10003  1959-12-03      Parto   Bamford      M  1986-08-28 40.00   \n",
       "3   10004  1954-05-01  Chirstian   Koblick      M  1986-12-01 45.00   \n",
       "4   10005  1955-01-21    Kyoichi  Maliniak      M  1989-09-12 45.00   \n",
       "\n",
       "   Antiguedad Edad_Seg Antiguedad_Seg  ...  Fecha Nuevo Salario   to_date_x  \\\n",
       "0       13.00    45-49            >15  ...           2002-06-22  9999-01-01   \n",
       "1       14.00    35-39            >15  ...           2001-08-02  9999-01-01   \n",
       "2       13.00    40-44            >15  ...           2001-12-01  9999-01-01   \n",
       "3       13.00    45-49            >15  ...           2001-11-27  9999-01-01   \n",
       "4       10.00    45-49          10-14  ...           2001-09-09  9999-01-01   \n",
       "\n",
       "       Salary_seg            title Fecha Nuevo Puesto   to_date_y dept_no  \\\n",
       "0   >80000 <90000  Senior Engineer         1986-06-26  9999-01-01    d005   \n",
       "1   >70000 <80000            Staff         1996-08-03  9999-01-01    d007   \n",
       "2   >40000 <50000  Senior Engineer         1995-12-03  9999-01-01    d004   \n",
       "3   >70000 <80000  Senior Engineer         1995-12-01  9999-01-01    d004   \n",
       "4  >90000 <100000            Staff         1989-09-12  1996-09-12    d003   \n",
       "\n",
       "         dept_name   from_date     to_date  \n",
       "0      Development  1986-06-26  9999-01-01  \n",
       "1            Sales  1996-08-03  9999-01-01  \n",
       "2       Production  1995-12-03  9999-01-01  \n",
       "3       Production  1986-12-01  9999-01-01  \n",
       "4  Human Resources  1989-09-12  9999-01-01  \n",
       "\n",
       "[5 rows x 21 columns]"
      ]
     },
     "execution_count": 41,
     "metadata": {},
     "output_type": "execute_result"
    }
   ],
   "source": [
    "total.head(5)"
   ]
  },
  {
   "cell_type": "code",
   "execution_count": 42,
   "metadata": {},
   "outputs": [],
   "source": [
    "total=total.drop(['to_date_x','to_date_y'],axis=1)"
   ]
  },
  {
   "cell_type": "code",
   "execution_count": 43,
   "metadata": {},
   "outputs": [],
   "source": [
    "total.rename(columns={'from_date':'Fecha Nuevo Departament'},inplace=True)"
   ]
  },
  {
   "cell_type": "code",
   "execution_count": 44,
   "metadata": {},
   "outputs": [],
   "source": [
    "dataframes=[df_current_dept_emp,df_departments,df_dept_emp,df_dept_emp_latest_date,df_dept_manager,df_employees,df_salaries,df_titles,total]\n",
    "csv_names = ['current_dept_emp.csv', 'departments.csv', 'dept_emp.csv', 'dept_emp_latest_date.csv', 'dept_manager.csv', 'employees.csv', 'salaries.csv', 'titles.csv','total.csv']\n",
    "\n",
    "for df, csv_name in zip(dataframes, csv_names):\n",
    "    df.to_csv(csv_name, index=False)"
   ]
  },
  {
   "cell_type": "code",
   "execution_count": 45,
   "metadata": {},
   "outputs": [],
   "source": [
    "cursor.close() #Para cerrar el cursor\n",
    "connection.close() #Para cerrrar conexion"
   ]
  }
 ],
 "metadata": {
  "kernelspec": {
   "display_name": "base",
   "language": "python",
   "name": "python3"
  },
  "language_info": {
   "codemirror_mode": {
    "name": "ipython",
    "version": 3
   },
   "file_extension": ".py",
   "mimetype": "text/x-python",
   "name": "python",
   "nbconvert_exporter": "python",
   "pygments_lexer": "ipython3",
   "version": "3.9.16"
  },
  "orig_nbformat": 4
 },
 "nbformat": 4,
 "nbformat_minor": 2
}
